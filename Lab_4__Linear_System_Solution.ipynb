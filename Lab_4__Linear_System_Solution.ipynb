{
  "nbformat": 4,
  "nbformat_minor": 0,
  "metadata": {
    "colab": {
      "provenance": [],
      "include_colab_link": true
    },
    "kernelspec": {
      "name": "python3",
      "display_name": "Python 3"
    },
    "language_info": {
      "name": "python"
    }
  },
  "cells": [
    {
      "cell_type": "markdown",
      "metadata": {
        "id": "view-in-github",
        "colab_type": "text"
      },
      "source": [
        "<a href=\"https://colab.research.google.com/github/smshozab/Numerical-Craftery-/blob/main/Lab_4__Linear_System_Solution.ipynb\" target=\"_parent\"><img src=\"https://colab.research.google.com/assets/colab-badge.svg\" alt=\"Open In Colab\"/></a>"
      ]
    },
    {
      "cell_type": "markdown",
      "source": [
        "##LAB 4: Linear System Solutions"
      ],
      "metadata": {
        "id": "Z9zqXuUZY_dL"
      }
    },
    {
      "cell_type": "markdown",
      "source": [
        "\n",
        "##TASK 1: Find the determinant of following matrices in python:\n",
        "\n",
        "#(i) a 5 by 5 matrix\n",
        "#(ii) Is a determinant possible of a 4 by 5 matrix, if yes, then compute using below given code:\n"
      ],
      "metadata": {
        "id": "-KvI3hh-r15v"
      }
    },
    {
      "cell_type": "code",
      "source": [
        "import numpy as np\n",
        "def determinant(A):\n",
        "    n = A.shape[0]\n",
        "    if n == 1:\n",
        "        return A[0, 0]\n",
        "    else:\n",
        "        det = 0\n",
        "        for j in range(n):\n",
        "            # Get submatrix obtained by deleting row 0 and column j\n",
        "            submatrix = np.delete(np.delete(A, 0, axis=0), j, axis=1)\n",
        "            # Compute determinant recursively\n",
        "            det += (-1) ** j * A[0, j] * determinant(submatrix)\n",
        "        return det\n",
        "\n",
        "a = np.array([[0, 1, -1,  7, 9],\n",
        "              [2, -4, 9, -6, 8],\n",
        "              [1, -2, 1,  6 ,8],\n",
        "              [2, 4 , 6,  9, 10],\n",
        "              [5, -3 ,9,  6, 5]],dtype=float)\n",
        "\n",
        "determinant(a)"
      ],
      "metadata": {
        "id": "DUdE4PWcdjkY",
        "colab": {
          "base_uri": "https://localhost:8080/"
        },
        "outputId": "d46bacb6-5a73-4054-f15e-29f4643a3a4f"
      },
      "execution_count": 11,
      "outputs": [
        {
          "output_type": "execute_result",
          "data": {
            "text/plain": [
              "-3292.0"
            ]
          },
          "metadata": {},
          "execution_count": 11
        }
      ]
    },
    {
      "cell_type": "markdown",
      "source": [
        "No, determinant of a 4 by 5 matrix is not possible from the given code. However, it does give the output as seen in the code below. Basically, the issue here is that this code does not accurately compute the determinant of a 4 by 5 matrix. It is treating the input matrix as if it were square, which is incorrect.\n",
        "\n"
      ],
      "metadata": {
        "id": "v4qlYQP5r7wj"
      }
    },
    {
      "cell_type": "code",
      "source": [
        "import numpy as np\n",
        "def determinant(A):\n",
        "    n = A.shape[0]\n",
        "    if n == 1:\n",
        "      return A[0, 0]\n",
        "    else:\n",
        "      det = 0\n",
        "      for j in range(n):\n",
        "        # Get submatrix obtained by deleting row 0 and column j\n",
        "        submatrix = np.delete(np.delete(A, 0, axis=0), j, axis=1)\n",
        "        # Compute determinant recursively\n",
        "        det += (-1) ** j * A[0, j] * determinant(submatrix)\n",
        "      return det\n",
        "\n",
        "a = np.array([[0, 1, -1,  7, 9],\n",
        "              [2, -4, 9, -6, 8],\n",
        "              [1, -2, 1,  6 ,8],\n",
        "              [2, 4 , 6,  9, 10]],dtype=float)\n",
        "determinant(a)"
      ],
      "metadata": {
        "colab": {
          "base_uri": "https://localhost:8080/"
        },
        "id": "L5FLOZuvoYHi",
        "outputId": "5deb0cf4-5ac1-4f80-ae9e-485cedb5f6e6"
      },
      "execution_count": 9,
      "outputs": [
        {
          "output_type": "execute_result",
          "data": {
            "text/plain": [
              "-197.0"
            ]
          },
          "metadata": {},
          "execution_count": 9
        }
      ]
    },
    {
      "cell_type": "markdown",
      "source": [
        "##Algorithm for finding LU Decomposition(Do Little) of A\n",
        "```\n",
        "1. Define the function with input matrix A\n",
        "2. Check if the determinant of A is zero. If yes, print error message and return None.\n",
        "3. Initialize n as the length of A and create an identity matrix P of size n to store the permutation matrix.\n",
        "4. Create an identity matrix L of size n to store the lower triangular matrix.\n",
        "5. Create a zero matrix U of size n to store the upper triangular matrix.\n",
        "6. For each column k in the range 0 to n-1, do the following:\n",
        "   a. Perform partial pivoting by swapping rows to ensure diagonal element is the largest absolute value in the column.\n",
        "   b. Update the permutation matrix P based on the row swaps.\n",
        "   c. For each row i in the range k+1 to n-1, do the following:\n",
        "      i. Compute the ratio lam = A[i,k] / A[k,k]\n",
        "      ii. Set L[i,k] = lam\n",
        "      iii. Update the remaining entries of row i of A using A[i,k+1:n] = A[i,k+1:n] - lam * A[k,k+1:n]\n",
        "7. Set U as the upper triangular part of A.\n",
        "8. Return L, U, P, and A as the output of the function.\n",
        "```"
      ],
      "metadata": {
        "id": "Tg2Xg_In1iqY"
      }
    },
    {
      "cell_type": "markdown",
      "source": [
        "##Task 2: Implement the LU Decomposition Algorithm manually for the matrix A = [[0, 1, -1],[2, -4, 9],[1, -2, 1]]. Make sure to show all the steps in your working:"
      ],
      "metadata": {
        "id": "GK9vNtY9UMC9"
      }
    },
    {
      "cell_type": "code",
      "source": [
        "import numpy as np\n",
        "\n",
        "def determinant(A):\n",
        "    n = A.shape[0]\n",
        "    if n == 1:\n",
        "      return A[0, 0]\n",
        "    else:\n",
        "      det = 0\n",
        "      for j in range(n):\n",
        "        # Get submatrix obtained by deleting row 0 and column j\n",
        "        submatrix = np.delete(np.delete(A, 0, axis=0), j, axis=1)\n",
        "        # Compute determinant recursively\n",
        "        det += (-1) ** j * A[0, j] * determinant(submatrix)\n",
        "      return det\n",
        "\n",
        "def LUdecomp(A):\n",
        "    if determinant(A)==0:\n",
        "      print(\"Matrix is Singular LU decomposition not possible\")\n",
        "      return None\n",
        "    else:\n",
        "     n = len(A)\n",
        "     P = np.eye(n)  # initialize permutation matrix as identity matrix\n",
        "     L = np.eye(n)\n",
        "     Lo=np.zeros(n)\n",
        "     U = np.zeros(n)\n",
        "     for k in range(0, n-1):\n",
        "        # Partial pivoting: swap rows to ensure diagonal element is largest absolute value in the column\n",
        "        max_index = k + np.argmax(np.abs(a[k:, k]))\n",
        "        if max_index > k:\n",
        "            A[[k, max_index]] = A[[max_index, k]]\n",
        "            P[[k, max_index]] = P[[max_index, k]]\n",
        "        for i in range(k+1, n):\n",
        "                lam = A[i,k]/A[k,k]\n",
        "                L[i,k] = lam\n",
        "                A[i,k+1:n] = A[i,k+1:n] - lam*A[k,k+1:n]\n",
        "                A[i,k] = 0\n",
        "\n",
        "    a = np.array([[0, 1, -1],\n",
        "                  [2, -4, 9],\n",
        "                  [1, -2, 1]],dtype=float)\n",
        "\n",
        "    LUdecomp(a)\n",
        "    U=np.triu(a)\n",
        "    Lo=np.tril(a)\n",
        "    print('LU decomposition of A is given by \\n L=\\n',np.matrix(L),'and \\n U=\\n',np.matrix(U),\"by using permutation matrix \\n P=\\n\",np.matrix(P),\"by using Lower tri matrix using np \\n Lo=\\n\",np.matrix(Lo))\n",
        "    return\n",
        "\n"
      ],
      "metadata": {
        "id": "5tH7ldrcgT6s"
      },
      "execution_count": 18,
      "outputs": []
    },
    {
      "cell_type": "markdown",
      "source": [
        "###Examples:"
      ],
      "metadata": {
        "id": "zKgR4QDb2gsF"
      }
    },
    {
      "cell_type": "code",
      "source": [
        "a = np.array([[0, 1, -1],\n",
        "              [2, -4, 9],\n",
        "              [1, -2, 1]],dtype=float)\n",
        "\n",
        "LUdecomp(a)"
      ],
      "metadata": {
        "colab": {
          "base_uri": "https://localhost:8080/"
        },
        "id": "tZInffgWfbR5",
        "outputId": "c43fcc02-0309-4c1f-f828-b699d7d06244"
      },
      "execution_count": null,
      "outputs": [
        {
          "output_type": "stream",
          "name": "stdout",
          "text": [
            "LU decomposition of A is given by \n",
            " L=\n",
            " [[1.  0.  0. ]\n",
            " [0.  1.  0. ]\n",
            " [0.5 0.  1. ]] and \n",
            " U=\n",
            " [[ 2.  -4.   9. ]\n",
            " [ 0.   1.  -1. ]\n",
            " [ 0.   0.  -3.5]] by using permutation matrix \n",
            " P=\n",
            " [[0. 1. 0.]\n",
            " [1. 0. 0.]\n",
            " [0. 0. 1.]] by using Lower tri matrix using np \n",
            " Lo=\n",
            " [[ 2.   0.   0. ]\n",
            " [ 0.   1.   0. ]\n",
            " [ 0.   0.  -3.5]]\n"
          ]
        }
      ]
    },
    {
      "cell_type": "code",
      "source": [
        "a = np.array([[0, 1, -1],\n",
        "              [2, -4, 9],\n",
        "              [0, 2, -2]],dtype=float)\n",
        "\n",
        "LUdecomp(a)\n"
      ],
      "metadata": {
        "colab": {
          "base_uri": "https://localhost:8080/"
        },
        "id": "lwyINc1T6qm8",
        "outputId": "c3c87f51-e5f6-4290-9387-3c1881052d7c"
      },
      "execution_count": 19,
      "outputs": [
        {
          "output_type": "stream",
          "name": "stdout",
          "text": [
            "Matrix is Singular LU decomposition not possible\n"
          ]
        }
      ]
    },
    {
      "cell_type": "markdown",
      "source": [
        "##Task 3: Use Python Library function (scipy) for computing the following matrices :\n",
        "(i) Lower triangular matrix\n",
        "\n",
        "(ii) Upper triangular matrix\n",
        "\n",
        "(iii) Permutation matrix\n",
        "# for A = [[0, 1, -1],[2, -4, 9],[1, -2, 1]] and also show the LU product:\n"
      ],
      "metadata": {
        "id": "x8QJjmgX57T4"
      }
    },
    {
      "cell_type": "code",
      "source": [
        "a = np.array([[0, 1, -1],\n",
        "              [2, -4, 9],\n",
        "              [1, -2, 1]])\n",
        "from scipy.linalg import lu\n",
        "\n",
        "P, L, U = lu(a)\n",
        "print('A:\\n', a)\n",
        "print('P:\\n', P)\n",
        "print('L:\\n', L)\n",
        "print('U:\\n', U)\n",
        "print('LU:\\n',np.dot(L, U))"
      ],
      "metadata": {
        "colab": {
          "base_uri": "https://localhost:8080/"
        },
        "id": "SLOOKVgR077x",
        "outputId": "dd07d45f-7329-414f-e93d-4f63ef1220bc"
      },
      "execution_count": 27,
      "outputs": [
        {
          "output_type": "stream",
          "name": "stdout",
          "text": [
            "A:\n",
            " [[ 0  1 -1]\n",
            " [ 2 -4  9]\n",
            " [ 1 -2  1]]\n",
            "P:\n",
            " [[0. 1. 0.]\n",
            " [1. 0. 0.]\n",
            " [0. 0. 1.]]\n",
            "L:\n",
            " [[1.  0.  0. ]\n",
            " [0.  1.  0. ]\n",
            " [0.5 0.  1. ]]\n",
            "U:\n",
            " [[ 2.  -4.   9. ]\n",
            " [ 0.   1.  -1. ]\n",
            " [ 0.   0.  -3.5]]\n",
            "LU:\n",
            " [[ 2. -4.  9.]\n",
            " [ 0.  1. -1.]\n",
            " [ 1. -2.  1.]]\n"
          ]
        }
      ]
    },
    {
      "cell_type": "markdown",
      "source": [
        "##Crout's Decomposition"
      ],
      "metadata": {
        "id": "JZJWHkRmFhxX"
      }
    },
    {
      "cell_type": "code",
      "source": [
        "import numpy as np\n",
        "\n",
        "def crout(A):\n",
        "  if determinant(A)==0:\n",
        "      print(\"Matrix is Singular LU decomposition not possible\")\n",
        "      return None\n",
        "  else:\n",
        "    n = len(A)\n",
        "    L = np.zeros((n, n))\n",
        "    U = np.zeros((n, n))\n",
        "\n",
        "    for j in range(n):\n",
        "        U[j, j] = 1.0\n",
        "        for i in range(j, n):\n",
        "            s1 = sum(U[k, j] * L[i, k] for k in range(j))\n",
        "            L[i, j] = A[i, j] - s1\n",
        "\n",
        "        for i in range(j+1, n):\n",
        "            s2 = sum(U[k, i] * L[j, k] for k in range(j))\n",
        "            if L[j,j]==0:\n",
        "               print(\"Crout decomposition not possible without row exchange\")\n",
        "               return None\n",
        "            else:\n",
        "              U[j, i] = (A[j, i] - s2) / L[j, j]\n",
        "    print('LU decomposition of A is given by \\n L=\\n',np.matrix(L),'and \\n U=\\n',np.matrix(U))\n",
        "    return L, U\n",
        "\n",
        "# Define matrix\n",
        "A = np.array([[0.52,0.2,0.25],\n",
        "              [0.3,0.5,0.2],\n",
        "              [0.18,0.3,0.55]],dtype=float)\n",
        "\n",
        "# Perform Crout's decomposition\n",
        "L,U=crout(A)\n",
        "\n",
        "\n"
      ],
      "metadata": {
        "colab": {
          "base_uri": "https://localhost:8080/"
        },
        "id": "3aby8VCLFlCk",
        "outputId": "fcd9bb37-8732-47ce-c403-de6511f71651"
      },
      "execution_count": null,
      "outputs": [
        {
          "output_type": "stream",
          "name": "stdout",
          "text": [
            "LU decomposition of A is given by \n",
            " L=\n",
            " [[0.52       0.         0.        ]\n",
            " [0.3        0.38461538 0.        ]\n",
            " [0.18       0.23076923 0.43      ]] and \n",
            " U=\n",
            " [[1.         0.38461538 0.48076923]\n",
            " [0.         1.         0.145     ]\n",
            " [0.         0.         1.        ]]\n"
          ]
        }
      ]
    },
    {
      "cell_type": "markdown",
      "source": [
        "###Verification of Decomposition"
      ],
      "metadata": {
        "id": "6DtBs-BWiHAd"
      }
    },
    {
      "cell_type": "code",
      "source": [
        "np.dot(L,U)"
      ],
      "metadata": {
        "colab": {
          "base_uri": "https://localhost:8080/"
        },
        "id": "sDx63Gk_DD56",
        "outputId": "4ec655fa-6673-40c9-f3ff-a7235614a986"
      },
      "execution_count": null,
      "outputs": [
        {
          "output_type": "execute_result",
          "data": {
            "text/plain": [
              "array([[ 4.,  3., -5.],\n",
              "       [-2., -4., -5.],\n",
              "       [ 8.,  8.,  0.]])"
            ]
          },
          "metadata": {},
          "execution_count": 14
        }
      ]
    },
    {
      "cell_type": "markdown",
      "source": [
        "##GaussSiedel Algorithm\n",
        "\n",
        "```\n",
        "Input:\n",
        "   - A: an n by n coefficient matrix\n",
        "   - b: an n by 1 matrix\n",
        "   - x: an n by 1 matrix representing the initial guess for the solution\n",
        "   - tol: the tolerance for convergence\n",
        "   - N: the maximum number of iterations\n",
        "   -Note give all matrices in form of numpy arrays.\n",
        "\n",
        "\n",
        "\n",
        "1. Start by initializing the iteration count k to 0 and the convergence flag converged to False.\n",
        "2. If any diagonal entry of the coefficient matrix A is zero, swap rows to move a non-zero entry to the diagonal.\n",
        "3. Enter a while loop that continues until either convergence is achieved or the maximum number of iterations N is reached.\n",
        "4. Inside the while loop, increment the iteration count k by 1 and make a copy of the solution vector x as x0.\n",
        "5. Use a nested loop to compute the updated value of each component of x using the Gauss-Seidel iteration formula.\n",
        "6. Check whether the difference between x and x0 is less than the tolerance tol using the norm function from numpy.linalg. If the condition is satisfied, set the convergence flag converged to True and print the message \"Converged!\". Exit the while loop using the break statement.\n",
        "7. If convergence has not been achieved after N iterations, print the message \"Not converged, increase the # of iterations\".\n",
        "8. Print either converged or not converged.\n",
        "\n",
        "\n",
        "```"
      ],
      "metadata": {
        "id": "2-irF9PMyZWt"
      }
    },
    {
      "cell_type": "markdown",
      "source": [
        "##Task 4: Implement the Guass Seidel Algorithm manually for the matrix A = [[8,8,3],[2,8,5],[3,5,10]] and B = [[14],[5],[-8]], where tolerance = 0.01. Make sure to show allthe steps in your working:"
      ],
      "metadata": {
        "id": "LcIVLXQaYmEy"
      }
    },
    {
      "cell_type": "code",
      "source": [
        "import numpy as np\n",
        "import numpy.linalg as LA\n",
        "from tabulate import tabulate\n",
        "\n",
        "def Gauss_Siedel(A, b, x, tol, N):\n",
        "\n",
        "    k = 0\n",
        "    data=[]\n",
        "    converged = False\n",
        "    for i in range(len(b)):\n",
        "        if A[i,i] == 0:\n",
        "            j = i + np.argmax(np.abs(A[i:, i]))\n",
        "            A[[i, j]] = A[[j, i]]\n",
        "            b[[i, j]] = b[[j, i]]\n",
        "\n",
        "    while k <= N:\n",
        "     k += 1\n",
        "     x0 = x.copy()\n",
        "     data.append([k,x0[0],x0[1],x0[2]])\n",
        "     for i in range(len(b)):\n",
        "        Sum = 0  # reset Sum to zero before the inner loop\n",
        "        for j in range(len(b)):\n",
        "            if j != i:\n",
        "                Sum += A[i,j] * x[j]\n",
        "        x[i] = (1 / A[i,i]) * (b[i] - Sum)\n",
        "\n",
        "        if LA.norm(x - x0) < tol:\n",
        "            converged = True\n",
        "            print(tabulate(data,headers=['Iter no','x1','x2',\"x3\"],tablefmt=\"github\"))\n",
        "            print('Converged!in',k,'no of iterations')\n",
        "            return None  # exit the while loop if converged\n",
        "\n",
        "    if not converged:\n",
        "      print(tabulate(data,headers=['Iter no','x1','x2',\"x3\"],tablefmt=\"github\"))\n",
        "      print('Not converged, increase the # of iterations')\n",
        "\n",
        "      return"
      ],
      "metadata": {
        "id": "G8tlBmUKie4i"
      },
      "execution_count": null,
      "outputs": []
    },
    {
      "cell_type": "markdown",
      "source": [
        "###Examples\n"
      ],
      "metadata": {
        "id": "u7HNm9wRGOm7"
      }
    },
    {
      "cell_type": "code",
      "source": [
        "A=np.array([[8,8,3],[2,8,5],[3,5,10]],dtype=float)\n",
        "\n",
        "b=np.array([[14],[5],[-8]],dtype=float)\n",
        "N=10\n",
        "tol=0.01\n",
        "#Initialize for 0th Iteration\n",
        "x=np.zeros_like(b)\n",
        "Gauss_Siedel(A,b,x,tol,N)"
      ],
      "metadata": {
        "id": "S2f8ZMdkP48G",
        "colab": {
          "base_uri": "https://localhost:8080/"
        },
        "outputId": "cea0caa5-ea84-433c-c291-9f005f8a982a"
      },
      "execution_count": null,
      "outputs": [
        {
          "output_type": "stream",
          "name": "stdout",
          "text": [
            "|   Iter no |       x1 |       x2 |       x3 |\n",
            "|-----------|----------|----------|----------|\n",
            "|         1 | 0        | 0        |  0       |\n",
            "|         2 | 1.75     | 0.1875   | -1.41875 |\n",
            "|         3 | 2.09453  | 0.988086 | -1.9224  |\n",
            "|         4 | 1.48281  | 1.4558   | -1.97274 |\n",
            "|         5 | 1.03398  | 1.59947  | -1.90993 |\n",
            "|         6 | 0.866754 | 1.60202  | -1.86103 |\n",
            "|         7 | 0.845871 | 1.57668  | -1.8421  |\n",
            "|         8 | 0.864109 | 1.56029  | -1.83938 |\n",
            "|         9 | 0.87948  | 1.55474  | -1.84121 |\n",
            "Converged!in 9 no of iterations\n"
          ]
        }
      ]
    },
    {
      "cell_type": "code",
      "source": [
        "A = np.array([[0, 1, -1],\n",
        "              [2, -4, 9],\n",
        "              [0, 2, -2]],dtype=float)\n",
        "b=np.array([[14],[5],[-8]],dtype=float)\n",
        "N=100\n",
        "tol=0.01\n",
        "x=np.zeros_like(b)\n",
        "Gauss_Siedel(A,b,x,tol,N)"
      ],
      "metadata": {
        "id": "a6z_sf-JVyu7",
        "colab": {
          "base_uri": "https://localhost:8080/"
        },
        "outputId": "ec57a5c9-baec-46a6-87b5-130e5bfe820f"
      },
      "execution_count": null,
      "outputs": [
        {
          "output_type": "stream",
          "name": "stdout",
          "text": [
            "|   Iter no |      x1 |   x2 |   x3 |\n",
            "|-----------|---------|------|------|\n",
            "|         1 |     0   |    0 |    0 |\n",
            "|         2 |     2.5 |   14 |   18 |\n",
            "|         3 |   -50.5 |   32 |   36 |\n",
            "|         4 |   -95.5 |   50 |   54 |\n",
            "|         5 |  -140.5 |   68 |   72 |\n",
            "|         6 |  -185.5 |   86 |   90 |\n",
            "|         7 |  -230.5 |  104 |  108 |\n",
            "|         8 |  -275.5 |  122 |  126 |\n",
            "|         9 |  -320.5 |  140 |  144 |\n",
            "|        10 |  -365.5 |  158 |  162 |\n",
            "|        11 |  -410.5 |  176 |  180 |\n",
            "|        12 |  -455.5 |  194 |  198 |\n",
            "|        13 |  -500.5 |  212 |  216 |\n",
            "|        14 |  -545.5 |  230 |  234 |\n",
            "|        15 |  -590.5 |  248 |  252 |\n",
            "|        16 |  -635.5 |  266 |  270 |\n",
            "|        17 |  -680.5 |  284 |  288 |\n",
            "|        18 |  -725.5 |  302 |  306 |\n",
            "|        19 |  -770.5 |  320 |  324 |\n",
            "|        20 |  -815.5 |  338 |  342 |\n",
            "|        21 |  -860.5 |  356 |  360 |\n",
            "|        22 |  -905.5 |  374 |  378 |\n",
            "|        23 |  -950.5 |  392 |  396 |\n",
            "|        24 |  -995.5 |  410 |  414 |\n",
            "|        25 | -1040.5 |  428 |  432 |\n",
            "|        26 | -1085.5 |  446 |  450 |\n",
            "|        27 | -1130.5 |  464 |  468 |\n",
            "|        28 | -1175.5 |  482 |  486 |\n",
            "|        29 | -1220.5 |  500 |  504 |\n",
            "|        30 | -1265.5 |  518 |  522 |\n",
            "|        31 | -1310.5 |  536 |  540 |\n",
            "|        32 | -1355.5 |  554 |  558 |\n",
            "|        33 | -1400.5 |  572 |  576 |\n",
            "|        34 | -1445.5 |  590 |  594 |\n",
            "|        35 | -1490.5 |  608 |  612 |\n",
            "|        36 | -1535.5 |  626 |  630 |\n",
            "|        37 | -1580.5 |  644 |  648 |\n",
            "|        38 | -1625.5 |  662 |  666 |\n",
            "|        39 | -1670.5 |  680 |  684 |\n",
            "|        40 | -1715.5 |  698 |  702 |\n",
            "|        41 | -1760.5 |  716 |  720 |\n",
            "|        42 | -1805.5 |  734 |  738 |\n",
            "|        43 | -1850.5 |  752 |  756 |\n",
            "|        44 | -1895.5 |  770 |  774 |\n",
            "|        45 | -1940.5 |  788 |  792 |\n",
            "|        46 | -1985.5 |  806 |  810 |\n",
            "|        47 | -2030.5 |  824 |  828 |\n",
            "|        48 | -2075.5 |  842 |  846 |\n",
            "|        49 | -2120.5 |  860 |  864 |\n",
            "|        50 | -2165.5 |  878 |  882 |\n",
            "|        51 | -2210.5 |  896 |  900 |\n",
            "|        52 | -2255.5 |  914 |  918 |\n",
            "|        53 | -2300.5 |  932 |  936 |\n",
            "|        54 | -2345.5 |  950 |  954 |\n",
            "|        55 | -2390.5 |  968 |  972 |\n",
            "|        56 | -2435.5 |  986 |  990 |\n",
            "|        57 | -2480.5 | 1004 | 1008 |\n",
            "|        58 | -2525.5 | 1022 | 1026 |\n",
            "|        59 | -2570.5 | 1040 | 1044 |\n",
            "|        60 | -2615.5 | 1058 | 1062 |\n",
            "|        61 | -2660.5 | 1076 | 1080 |\n",
            "|        62 | -2705.5 | 1094 | 1098 |\n",
            "|        63 | -2750.5 | 1112 | 1116 |\n",
            "|        64 | -2795.5 | 1130 | 1134 |\n",
            "|        65 | -2840.5 | 1148 | 1152 |\n",
            "|        66 | -2885.5 | 1166 | 1170 |\n",
            "|        67 | -2930.5 | 1184 | 1188 |\n",
            "|        68 | -2975.5 | 1202 | 1206 |\n",
            "|        69 | -3020.5 | 1220 | 1224 |\n",
            "|        70 | -3065.5 | 1238 | 1242 |\n",
            "|        71 | -3110.5 | 1256 | 1260 |\n",
            "|        72 | -3155.5 | 1274 | 1278 |\n",
            "|        73 | -3200.5 | 1292 | 1296 |\n",
            "|        74 | -3245.5 | 1310 | 1314 |\n",
            "|        75 | -3290.5 | 1328 | 1332 |\n",
            "|        76 | -3335.5 | 1346 | 1350 |\n",
            "|        77 | -3380.5 | 1364 | 1368 |\n",
            "|        78 | -3425.5 | 1382 | 1386 |\n",
            "|        79 | -3470.5 | 1400 | 1404 |\n",
            "|        80 | -3515.5 | 1418 | 1422 |\n",
            "|        81 | -3560.5 | 1436 | 1440 |\n",
            "|        82 | -3605.5 | 1454 | 1458 |\n",
            "|        83 | -3650.5 | 1472 | 1476 |\n",
            "|        84 | -3695.5 | 1490 | 1494 |\n",
            "|        85 | -3740.5 | 1508 | 1512 |\n",
            "|        86 | -3785.5 | 1526 | 1530 |\n",
            "|        87 | -3830.5 | 1544 | 1548 |\n",
            "|        88 | -3875.5 | 1562 | 1566 |\n",
            "|        89 | -3920.5 | 1580 | 1584 |\n",
            "|        90 | -3965.5 | 1598 | 1602 |\n",
            "|        91 | -4010.5 | 1616 | 1620 |\n",
            "|        92 | -4055.5 | 1634 | 1638 |\n",
            "|        93 | -4100.5 | 1652 | 1656 |\n",
            "|        94 | -4145.5 | 1670 | 1674 |\n",
            "|        95 | -4190.5 | 1688 | 1692 |\n",
            "|        96 | -4235.5 | 1706 | 1710 |\n",
            "|        97 | -4280.5 | 1724 | 1728 |\n",
            "|        98 | -4325.5 | 1742 | 1746 |\n",
            "|        99 | -4370.5 | 1760 | 1764 |\n",
            "|       100 | -4415.5 | 1778 | 1782 |\n",
            "|       101 | -4460.5 | 1796 | 1800 |\n",
            "Not converged, increase the # of iterations\n"
          ]
        }
      ]
    }
  ]
}